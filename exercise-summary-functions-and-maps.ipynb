{
 "cells": [
  {
   "cell_type": "markdown",
   "id": "0ebd6e95",
   "metadata": {
    "papermill": {
     "duration": 0.017429,
     "end_time": "2022-03-24T20:20:30.286816",
     "exception": false,
     "start_time": "2022-03-24T20:20:30.269387",
     "status": "completed"
    },
    "tags": []
   },
   "source": [
    "**This notebook is an exercise in the [Pandas](https://www.kaggle.com/learn/pandas) course.  You can reference the tutorial at [this link](https://www.kaggle.com/residentmario/summary-functions-and-maps).**\n",
    "\n",
    "---\n"
   ]
  },
  {
   "cell_type": "markdown",
   "id": "9121f51a",
   "metadata": {
    "papermill": {
     "duration": 0.016028,
     "end_time": "2022-03-24T20:20:30.319572",
     "exception": false,
     "start_time": "2022-03-24T20:20:30.303544",
     "status": "completed"
    },
    "tags": []
   },
   "source": [
    "# Introduction\n",
    "\n",
    "Now you are ready to get a deeper understanding of your data.\n",
    "\n",
    "Run the following cell to load your data and some utility functions (including code to check your answers)."
   ]
  },
  {
   "cell_type": "code",
   "execution_count": 1,
   "id": "39dbd926",
   "metadata": {
    "execution": {
     "iopub.execute_input": "2022-03-24T20:20:30.357947Z",
     "iopub.status.busy": "2022-03-24T20:20:30.356271Z",
     "iopub.status.idle": "2022-03-24T20:20:36.353379Z",
     "shell.execute_reply": "2022-03-24T20:20:36.353830Z",
     "shell.execute_reply.started": "2022-03-24T20:06:17.834924Z"
    },
    "papermill": {
     "duration": 6.018023,
     "end_time": "2022-03-24T20:20:36.354102",
     "exception": false,
     "start_time": "2022-03-24T20:20:30.336079",
     "status": "completed"
    },
    "tags": []
   },
   "outputs": [
    {
     "name": "stdout",
     "output_type": "stream",
     "text": [
      "Setup complete.\n"
     ]
    },
    {
     "data": {
      "text/html": [
       "<div>\n",
       "<style scoped>\n",
       "    .dataframe tbody tr th:only-of-type {\n",
       "        vertical-align: middle;\n",
       "    }\n",
       "\n",
       "    .dataframe tbody tr th {\n",
       "        vertical-align: top;\n",
       "    }\n",
       "\n",
       "    .dataframe thead th {\n",
       "        text-align: right;\n",
       "    }\n",
       "</style>\n",
       "<table border=\"1\" class=\"dataframe\">\n",
       "  <thead>\n",
       "    <tr style=\"text-align: right;\">\n",
       "      <th></th>\n",
       "      <th>country</th>\n",
       "      <th>description</th>\n",
       "      <th>designation</th>\n",
       "      <th>points</th>\n",
       "      <th>price</th>\n",
       "      <th>province</th>\n",
       "      <th>region_1</th>\n",
       "      <th>region_2</th>\n",
       "      <th>taster_name</th>\n",
       "      <th>taster_twitter_handle</th>\n",
       "      <th>title</th>\n",
       "      <th>variety</th>\n",
       "      <th>winery</th>\n",
       "    </tr>\n",
       "  </thead>\n",
       "  <tbody>\n",
       "    <tr>\n",
       "      <th>0</th>\n",
       "      <td>Italy</td>\n",
       "      <td>Aromas include tropical fruit, broom, brimston...</td>\n",
       "      <td>Vulkà Bianco</td>\n",
       "      <td>87</td>\n",
       "      <td>NaN</td>\n",
       "      <td>Sicily &amp; Sardinia</td>\n",
       "      <td>Etna</td>\n",
       "      <td>NaN</td>\n",
       "      <td>Kerin O’Keefe</td>\n",
       "      <td>@kerinokeefe</td>\n",
       "      <td>Nicosia 2013 Vulkà Bianco  (Etna)</td>\n",
       "      <td>White Blend</td>\n",
       "      <td>Nicosia</td>\n",
       "    </tr>\n",
       "    <tr>\n",
       "      <th>1</th>\n",
       "      <td>Portugal</td>\n",
       "      <td>This is ripe and fruity, a wine that is smooth...</td>\n",
       "      <td>Avidagos</td>\n",
       "      <td>87</td>\n",
       "      <td>15.0</td>\n",
       "      <td>Douro</td>\n",
       "      <td>NaN</td>\n",
       "      <td>NaN</td>\n",
       "      <td>Roger Voss</td>\n",
       "      <td>@vossroger</td>\n",
       "      <td>Quinta dos Avidagos 2011 Avidagos Red (Douro)</td>\n",
       "      <td>Portuguese Red</td>\n",
       "      <td>Quinta dos Avidagos</td>\n",
       "    </tr>\n",
       "    <tr>\n",
       "      <th>2</th>\n",
       "      <td>US</td>\n",
       "      <td>Tart and snappy, the flavors of lime flesh and...</td>\n",
       "      <td>NaN</td>\n",
       "      <td>87</td>\n",
       "      <td>14.0</td>\n",
       "      <td>Oregon</td>\n",
       "      <td>Willamette Valley</td>\n",
       "      <td>Willamette Valley</td>\n",
       "      <td>Paul Gregutt</td>\n",
       "      <td>@paulgwine</td>\n",
       "      <td>Rainstorm 2013 Pinot Gris (Willamette Valley)</td>\n",
       "      <td>Pinot Gris</td>\n",
       "      <td>Rainstorm</td>\n",
       "    </tr>\n",
       "    <tr>\n",
       "      <th>3</th>\n",
       "      <td>US</td>\n",
       "      <td>Pineapple rind, lemon pith and orange blossom ...</td>\n",
       "      <td>Reserve Late Harvest</td>\n",
       "      <td>87</td>\n",
       "      <td>13.0</td>\n",
       "      <td>Michigan</td>\n",
       "      <td>Lake Michigan Shore</td>\n",
       "      <td>NaN</td>\n",
       "      <td>Alexander Peartree</td>\n",
       "      <td>NaN</td>\n",
       "      <td>St. Julian 2013 Reserve Late Harvest Riesling ...</td>\n",
       "      <td>Riesling</td>\n",
       "      <td>St. Julian</td>\n",
       "    </tr>\n",
       "    <tr>\n",
       "      <th>4</th>\n",
       "      <td>US</td>\n",
       "      <td>Much like the regular bottling from 2012, this...</td>\n",
       "      <td>Vintner's Reserve Wild Child Block</td>\n",
       "      <td>87</td>\n",
       "      <td>65.0</td>\n",
       "      <td>Oregon</td>\n",
       "      <td>Willamette Valley</td>\n",
       "      <td>Willamette Valley</td>\n",
       "      <td>Paul Gregutt</td>\n",
       "      <td>@paulgwine</td>\n",
       "      <td>Sweet Cheeks 2012 Vintner's Reserve Wild Child...</td>\n",
       "      <td>Pinot Noir</td>\n",
       "      <td>Sweet Cheeks</td>\n",
       "    </tr>\n",
       "  </tbody>\n",
       "</table>\n",
       "</div>"
      ],
      "text/plain": [
       "    country                                        description  \\\n",
       "0     Italy  Aromas include tropical fruit, broom, brimston...   \n",
       "1  Portugal  This is ripe and fruity, a wine that is smooth...   \n",
       "2        US  Tart and snappy, the flavors of lime flesh and...   \n",
       "3        US  Pineapple rind, lemon pith and orange blossom ...   \n",
       "4        US  Much like the regular bottling from 2012, this...   \n",
       "\n",
       "                          designation  points  price           province  \\\n",
       "0                        Vulkà Bianco      87    NaN  Sicily & Sardinia   \n",
       "1                            Avidagos      87   15.0              Douro   \n",
       "2                                 NaN      87   14.0             Oregon   \n",
       "3                Reserve Late Harvest      87   13.0           Michigan   \n",
       "4  Vintner's Reserve Wild Child Block      87   65.0             Oregon   \n",
       "\n",
       "              region_1           region_2         taster_name  \\\n",
       "0                 Etna                NaN       Kerin O’Keefe   \n",
       "1                  NaN                NaN          Roger Voss   \n",
       "2    Willamette Valley  Willamette Valley        Paul Gregutt   \n",
       "3  Lake Michigan Shore                NaN  Alexander Peartree   \n",
       "4    Willamette Valley  Willamette Valley        Paul Gregutt   \n",
       "\n",
       "  taster_twitter_handle                                              title  \\\n",
       "0          @kerinokeefe                  Nicosia 2013 Vulkà Bianco  (Etna)   \n",
       "1            @vossroger      Quinta dos Avidagos 2011 Avidagos Red (Douro)   \n",
       "2           @paulgwine       Rainstorm 2013 Pinot Gris (Willamette Valley)   \n",
       "3                   NaN  St. Julian 2013 Reserve Late Harvest Riesling ...   \n",
       "4           @paulgwine   Sweet Cheeks 2012 Vintner's Reserve Wild Child...   \n",
       "\n",
       "          variety               winery  \n",
       "0     White Blend              Nicosia  \n",
       "1  Portuguese Red  Quinta dos Avidagos  \n",
       "2      Pinot Gris            Rainstorm  \n",
       "3        Riesling           St. Julian  \n",
       "4      Pinot Noir         Sweet Cheeks  "
      ]
     },
     "execution_count": 1,
     "metadata": {},
     "output_type": "execute_result"
    }
   ],
   "source": [
    "import pandas as pd\n",
    "pd.set_option(\"display.max_rows\", 5)\n",
    "reviews = pd.read_csv(\"../input/wine-reviews/winemag-data-130k-v2.csv\", index_col=0)\n",
    "\n",
    "from learntools.core import binder; binder.bind(globals())\n",
    "from learntools.pandas.summary_functions_and_maps import *\n",
    "print(\"Setup complete.\")\n",
    "\n",
    "reviews.head()"
   ]
  },
  {
   "cell_type": "markdown",
   "id": "8ec976b3",
   "metadata": {
    "papermill": {
     "duration": 0.016915,
     "end_time": "2022-03-24T20:20:36.388740",
     "exception": false,
     "start_time": "2022-03-24T20:20:36.371825",
     "status": "completed"
    },
    "tags": []
   },
   "source": [
    "# Exercises"
   ]
  },
  {
   "cell_type": "markdown",
   "id": "e4fe69cc",
   "metadata": {
    "papermill": {
     "duration": 0.016973,
     "end_time": "2022-03-24T20:20:36.423106",
     "exception": false,
     "start_time": "2022-03-24T20:20:36.406133",
     "status": "completed"
    },
    "tags": []
   },
   "source": [
    "## 1.\n",
    "\n",
    "What is the median of the `points` column in the `reviews` DataFrame?"
   ]
  },
  {
   "cell_type": "code",
   "execution_count": 2,
   "id": "fbb73c97",
   "metadata": {
    "execution": {
     "iopub.execute_input": "2022-03-24T20:20:36.461676Z",
     "iopub.status.busy": "2022-03-24T20:20:36.460760Z",
     "iopub.status.idle": "2022-03-24T20:20:36.471826Z",
     "shell.execute_reply": "2022-03-24T20:20:36.472408Z",
     "shell.execute_reply.started": "2022-03-24T20:06:28.066478Z"
    },
    "papermill": {
     "duration": 0.032187,
     "end_time": "2022-03-24T20:20:36.472601",
     "exception": false,
     "start_time": "2022-03-24T20:20:36.440414",
     "status": "completed"
    },
    "tags": []
   },
   "outputs": [
    {
     "name": "stdout",
     "output_type": "stream",
     "text": [
      "88.0\n"
     ]
    },
    {
     "data": {
      "application/javascript": [
       "parent.postMessage({\"jupyterEvent\": \"custom.exercise_interaction\", \"data\": {\"outcomeType\": 1, \"valueTowardsCompletion\": 0.14285714285714285, \"interactionType\": 1, \"questionType\": 1, \"questionId\": \"1_MedianPoints\", \"learnToolsVersion\": \"0.3.4\", \"failureMessage\": \"\", \"exceptionClass\": \"\", \"trace\": \"\"}}, \"*\")"
      ],
      "text/plain": [
       "<IPython.core.display.Javascript object>"
      ]
     },
     "metadata": {},
     "output_type": "display_data"
    },
    {
     "data": {
      "text/markdown": [
       "<span style=\"color:#33cc33\">Correct</span>"
      ],
      "text/plain": [
       "Correct"
      ]
     },
     "metadata": {},
     "output_type": "display_data"
    }
   ],
   "source": [
    "median_points = reviews.points.median()\n",
    "print(median_points)\n",
    "# Check your answer\n",
    "q1.check()"
   ]
  },
  {
   "cell_type": "code",
   "execution_count": 3,
   "id": "c57a7321",
   "metadata": {
    "execution": {
     "iopub.execute_input": "2022-03-24T20:20:36.513490Z",
     "iopub.status.busy": "2022-03-24T20:20:36.512564Z",
     "iopub.status.idle": "2022-03-24T20:20:36.515684Z",
     "shell.execute_reply": "2022-03-24T20:20:36.516227Z"
    },
    "papermill": {
     "duration": 0.025109,
     "end_time": "2022-03-24T20:20:36.516384",
     "exception": false,
     "start_time": "2022-03-24T20:20:36.491275",
     "status": "completed"
    },
    "tags": []
   },
   "outputs": [],
   "source": [
    "#q1.hint()\n",
    "#q1.solution()"
   ]
  },
  {
   "cell_type": "markdown",
   "id": "9d070799",
   "metadata": {
    "papermill": {
     "duration": 0.018306,
     "end_time": "2022-03-24T20:20:36.553413",
     "exception": false,
     "start_time": "2022-03-24T20:20:36.535107",
     "status": "completed"
    },
    "tags": []
   },
   "source": [
    "## 2. \n",
    "What countries are represented in the dataset? (Your answer should not include any duplicates.)"
   ]
  },
  {
   "cell_type": "code",
   "execution_count": 4,
   "id": "cdd1468e",
   "metadata": {
    "execution": {
     "iopub.execute_input": "2022-03-24T20:20:36.594951Z",
     "iopub.status.busy": "2022-03-24T20:20:36.594047Z",
     "iopub.status.idle": "2022-03-24T20:20:36.609729Z",
     "shell.execute_reply": "2022-03-24T20:20:36.610182Z",
     "shell.execute_reply.started": "2022-03-24T20:06:35.058950Z"
    },
    "papermill": {
     "duration": 0.038168,
     "end_time": "2022-03-24T20:20:36.610351",
     "exception": false,
     "start_time": "2022-03-24T20:20:36.572183",
     "status": "completed"
    },
    "tags": []
   },
   "outputs": [
    {
     "name": "stdout",
     "output_type": "stream",
     "text": [
      "['Italy' 'Portugal' 'US' 'Spain' 'France' 'Germany' 'Argentina' 'Chile'\n",
      " 'Australia' 'Austria' 'South Africa' 'New Zealand' 'Israel' 'Hungary'\n",
      " 'Greece' 'Romania' 'Mexico' 'Canada' nan 'Turkey' 'Czech Republic'\n",
      " 'Slovenia' 'Luxembourg' 'Croatia' 'Georgia' 'Uruguay' 'England' 'Lebanon'\n",
      " 'Serbia' 'Brazil' 'Moldova' 'Morocco' 'Peru' 'India' 'Bulgaria' 'Cyprus'\n",
      " 'Armenia' 'Switzerland' 'Bosnia and Herzegovina' 'Ukraine' 'Slovakia'\n",
      " 'Macedonia' 'China' 'Egypt']\n"
     ]
    },
    {
     "data": {
      "application/javascript": [
       "parent.postMessage({\"jupyterEvent\": \"custom.exercise_interaction\", \"data\": {\"outcomeType\": 1, \"valueTowardsCompletion\": 0.14285714285714285, \"interactionType\": 1, \"questionType\": 2, \"questionId\": \"2_UniqueCountries\", \"learnToolsVersion\": \"0.3.4\", \"failureMessage\": \"\", \"exceptionClass\": \"\", \"trace\": \"\"}}, \"*\")"
      ],
      "text/plain": [
       "<IPython.core.display.Javascript object>"
      ]
     },
     "metadata": {},
     "output_type": "display_data"
    },
    {
     "data": {
      "text/markdown": [
       "<span style=\"color:#33cc33\">Correct</span>"
      ],
      "text/plain": [
       "Correct"
      ]
     },
     "metadata": {},
     "output_type": "display_data"
    }
   ],
   "source": [
    "countries = reviews.country.unique()\n",
    "print(countries)\n",
    "# Check your answer\n",
    "q2.check()"
   ]
  },
  {
   "cell_type": "code",
   "execution_count": 5,
   "id": "80a7e9bf",
   "metadata": {
    "execution": {
     "iopub.execute_input": "2022-03-24T20:20:36.654555Z",
     "iopub.status.busy": "2022-03-24T20:20:36.654010Z",
     "iopub.status.idle": "2022-03-24T20:20:36.656173Z",
     "shell.execute_reply": "2022-03-24T20:20:36.656690Z"
    },
    "papermill": {
     "duration": 0.025111,
     "end_time": "2022-03-24T20:20:36.656855",
     "exception": false,
     "start_time": "2022-03-24T20:20:36.631744",
     "status": "completed"
    },
    "tags": []
   },
   "outputs": [],
   "source": [
    "#q2.hint()\n",
    "#q2.solution()"
   ]
  },
  {
   "cell_type": "markdown",
   "id": "e1fce26d",
   "metadata": {
    "papermill": {
     "duration": 0.019647,
     "end_time": "2022-03-24T20:20:36.696587",
     "exception": false,
     "start_time": "2022-03-24T20:20:36.676940",
     "status": "completed"
    },
    "tags": []
   },
   "source": [
    "## 3.\n",
    "How often does each country appear in the dataset? Create a Series `reviews_per_country` mapping countries to the count of reviews of wines from that country."
   ]
  },
  {
   "cell_type": "code",
   "execution_count": 6,
   "id": "4e25315a",
   "metadata": {
    "execution": {
     "iopub.execute_input": "2022-03-24T20:20:36.739105Z",
     "iopub.status.busy": "2022-03-24T20:20:36.738562Z",
     "iopub.status.idle": "2022-03-24T20:20:36.757438Z",
     "shell.execute_reply": "2022-03-24T20:20:36.756952Z",
     "shell.execute_reply.started": "2022-03-24T20:06:40.019121Z"
    },
    "papermill": {
     "duration": 0.041032,
     "end_time": "2022-03-24T20:20:36.757617",
     "exception": false,
     "start_time": "2022-03-24T20:20:36.716585",
     "status": "completed"
    },
    "tags": []
   },
   "outputs": [
    {
     "name": "stdout",
     "output_type": "stream",
     "text": [
      "US        54504\n",
      "France    22093\n",
      "          ...  \n",
      "China         1\n",
      "Egypt         1\n",
      "Name: country, Length: 43, dtype: int64\n"
     ]
    },
    {
     "data": {
      "application/javascript": [
       "parent.postMessage({\"jupyterEvent\": \"custom.exercise_interaction\", \"data\": {\"outcomeType\": 1, \"valueTowardsCompletion\": 0.14285714285714285, \"interactionType\": 1, \"questionType\": 1, \"questionId\": \"3_ReviewsPerCountry\", \"learnToolsVersion\": \"0.3.4\", \"failureMessage\": \"\", \"exceptionClass\": \"\", \"trace\": \"\"}}, \"*\")"
      ],
      "text/plain": [
       "<IPython.core.display.Javascript object>"
      ]
     },
     "metadata": {},
     "output_type": "display_data"
    },
    {
     "data": {
      "text/markdown": [
       "<span style=\"color:#33cc33\">Correct</span>"
      ],
      "text/plain": [
       "Correct"
      ]
     },
     "metadata": {},
     "output_type": "display_data"
    }
   ],
   "source": [
    "#reviews_per_country = reviews.country.unique()\n",
    "reviews_per_country=reviews.country.value_counts()\n",
    "print(reviews_per_country)\n",
    "# Check your answer\n",
    "q3.check()"
   ]
  },
  {
   "cell_type": "code",
   "execution_count": 7,
   "id": "588f5756",
   "metadata": {
    "execution": {
     "iopub.execute_input": "2022-03-24T20:20:36.803336Z",
     "iopub.status.busy": "2022-03-24T20:20:36.802750Z",
     "iopub.status.idle": "2022-03-24T20:20:36.808070Z",
     "shell.execute_reply": "2022-03-24T20:20:36.808570Z",
     "shell.execute_reply.started": "2022-03-24T18:51:54.246488Z"
    },
    "papermill": {
     "duration": 0.029344,
     "end_time": "2022-03-24T20:20:36.808721",
     "exception": false,
     "start_time": "2022-03-24T20:20:36.779377",
     "status": "completed"
    },
    "tags": []
   },
   "outputs": [
    {
     "data": {
      "application/javascript": [
       "parent.postMessage({\"jupyterEvent\": \"custom.exercise_interaction\", \"data\": {\"interactionType\": 2, \"questionType\": 1, \"questionId\": \"3_ReviewsPerCountry\", \"learnToolsVersion\": \"0.3.4\", \"valueTowardsCompletion\": 0.0, \"failureMessage\": \"\", \"exceptionClass\": \"\", \"trace\": \"\", \"outcomeType\": 4}}, \"*\")"
      ],
      "text/plain": [
       "<IPython.core.display.Javascript object>"
      ]
     },
     "metadata": {},
     "output_type": "display_data"
    },
    {
     "data": {
      "text/markdown": [
       "<span style=\"color:#3366cc\">Hint:</span> To see a list of unique values and how often they occur in a Series, use the `value_counts` method."
      ],
      "text/plain": [
       "Hint: To see a list of unique values and how often they occur in a Series, use the `value_counts` method."
      ]
     },
     "metadata": {},
     "output_type": "display_data"
    }
   ],
   "source": [
    "q3.hint()\n",
    "#q3.solution()"
   ]
  },
  {
   "cell_type": "markdown",
   "id": "f248ba74",
   "metadata": {
    "papermill": {
     "duration": 0.022018,
     "end_time": "2022-03-24T20:20:36.852929",
     "exception": false,
     "start_time": "2022-03-24T20:20:36.830911",
     "status": "completed"
    },
    "tags": []
   },
   "source": [
    "## 4.\n",
    "Create variable `centered_price` containing a version of the `price` column with the mean price subtracted.\n",
    "\n",
    "(Note: this 'centering' transformation is a common preprocessing step before applying various machine learning algorithms.) "
   ]
  },
  {
   "cell_type": "code",
   "execution_count": 8,
   "id": "2268dd1a",
   "metadata": {
    "execution": {
     "iopub.execute_input": "2022-03-24T20:20:36.901069Z",
     "iopub.status.busy": "2022-03-24T20:20:36.900478Z",
     "iopub.status.idle": "2022-03-24T20:20:36.910003Z",
     "shell.execute_reply": "2022-03-24T20:20:36.910475Z",
     "shell.execute_reply.started": "2022-03-24T20:06:46.364596Z"
    },
    "papermill": {
     "duration": 0.035034,
     "end_time": "2022-03-24T20:20:36.910631",
     "exception": false,
     "start_time": "2022-03-24T20:20:36.875597",
     "status": "completed"
    },
    "tags": []
   },
   "outputs": [
    {
     "name": "stdout",
     "output_type": "stream",
     "text": [
      "0               NaN\n",
      "1        -20.363389\n",
      "            ...    \n",
      "129969    -3.363389\n",
      "129970   -14.363389\n",
      "Name: price, Length: 129971, dtype: float64\n"
     ]
    },
    {
     "data": {
      "application/javascript": [
       "parent.postMessage({\"jupyterEvent\": \"custom.exercise_interaction\", \"data\": {\"outcomeType\": 1, \"valueTowardsCompletion\": 0.14285714285714285, \"interactionType\": 1, \"questionType\": 1, \"questionId\": \"4_CenteredPrice\", \"learnToolsVersion\": \"0.3.4\", \"failureMessage\": \"\", \"exceptionClass\": \"\", \"trace\": \"\"}}, \"*\")"
      ],
      "text/plain": [
       "<IPython.core.display.Javascript object>"
      ]
     },
     "metadata": {},
     "output_type": "display_data"
    },
    {
     "data": {
      "text/markdown": [
       "<span style=\"color:#33cc33\">Correct</span>"
      ],
      "text/plain": [
       "Correct"
      ]
     },
     "metadata": {},
     "output_type": "display_data"
    }
   ],
   "source": [
    "centered_price = reviews.price - reviews.price.mean()\n",
    "print(centered_price)\n",
    "\n",
    "# Check your answer\n",
    "q4.check()"
   ]
  },
  {
   "cell_type": "code",
   "execution_count": 9,
   "id": "b144db89",
   "metadata": {
    "execution": {
     "iopub.execute_input": "2022-03-24T20:20:36.961620Z",
     "iopub.status.busy": "2022-03-24T20:20:36.960218Z",
     "iopub.status.idle": "2022-03-24T20:20:36.964183Z",
     "shell.execute_reply": "2022-03-24T20:20:36.963682Z",
     "shell.execute_reply.started": "2022-03-24T19:04:54.681334Z"
    },
    "papermill": {
     "duration": 0.029948,
     "end_time": "2022-03-24T20:20:36.964316",
     "exception": false,
     "start_time": "2022-03-24T20:20:36.934368",
     "status": "completed"
    },
    "tags": []
   },
   "outputs": [],
   "source": [
    "#q4.hint()\n",
    "#q4.solution()"
   ]
  },
  {
   "cell_type": "markdown",
   "id": "d329b98f",
   "metadata": {
    "papermill": {
     "duration": 0.023134,
     "end_time": "2022-03-24T20:20:37.011349",
     "exception": false,
     "start_time": "2022-03-24T20:20:36.988215",
     "status": "completed"
    },
    "tags": []
   },
   "source": [
    "## 5.\n",
    "I'm an economical wine buyer. Which wine is the \"best bargain\"? Create a variable `bargain_wine` with the title of the wine with the highest points-to-price ratio in the dataset."
   ]
  },
  {
   "cell_type": "code",
   "execution_count": 10,
   "id": "a3e47e45",
   "metadata": {
    "execution": {
     "iopub.execute_input": "2022-03-24T20:20:37.063658Z",
     "iopub.status.busy": "2022-03-24T20:20:37.063051Z",
     "iopub.status.idle": "2022-03-24T20:20:37.072735Z",
     "shell.execute_reply": "2022-03-24T20:20:37.073401Z",
     "shell.execute_reply.started": "2022-03-24T20:06:50.800364Z"
    },
    "papermill": {
     "duration": 0.038755,
     "end_time": "2022-03-24T20:20:37.073612",
     "exception": false,
     "start_time": "2022-03-24T20:20:37.034857",
     "status": "completed"
    },
    "tags": []
   },
   "outputs": [
    {
     "name": "stdout",
     "output_type": "stream",
     "text": [
      "Bandit NV Merlot (California)\n"
     ]
    },
    {
     "data": {
      "application/javascript": [
       "parent.postMessage({\"jupyterEvent\": \"custom.exercise_interaction\", \"data\": {\"outcomeType\": 1, \"valueTowardsCompletion\": 0.14285714285714285, \"interactionType\": 1, \"questionType\": 2, \"questionId\": \"5_BargainWine\", \"learnToolsVersion\": \"0.3.4\", \"failureMessage\": \"\", \"exceptionClass\": \"\", \"trace\": \"\"}}, \"*\")"
      ],
      "text/plain": [
       "<IPython.core.display.Javascript object>"
      ]
     },
     "metadata": {},
     "output_type": "display_data"
    },
    {
     "data": {
      "text/markdown": [
       "<span style=\"color:#33cc33\">Correct</span>"
      ],
      "text/plain": [
       "Correct"
      ]
     },
     "metadata": {},
     "output_type": "display_data"
    }
   ],
   "source": [
    "# points-to-ptice ===> (reviews.points / reviews.price)\n",
    "\n",
    "bargain_idx = (reviews.points / reviews.price).idxmax()\n",
    "bargain_wine = reviews.loc[bargain_idx, 'title']\n",
    "print(bargain_wine)\n",
    "# Check your answer\n",
    "q5.check()"
   ]
  },
  {
   "cell_type": "code",
   "execution_count": 11,
   "id": "275d78b6",
   "metadata": {
    "execution": {
     "iopub.execute_input": "2022-03-24T20:20:37.127252Z",
     "iopub.status.busy": "2022-03-24T20:20:37.126658Z",
     "iopub.status.idle": "2022-03-24T20:20:37.128866Z",
     "shell.execute_reply": "2022-03-24T20:20:37.129263Z",
     "shell.execute_reply.started": "2022-03-24T19:16:58.820595Z"
    },
    "papermill": {
     "duration": 0.030608,
     "end_time": "2022-03-24T20:20:37.129415",
     "exception": false,
     "start_time": "2022-03-24T20:20:37.098807",
     "status": "completed"
    },
    "tags": []
   },
   "outputs": [],
   "source": [
    "#q5.hint()\n",
    "#q5.solution()"
   ]
  },
  {
   "cell_type": "markdown",
   "id": "8be389df",
   "metadata": {
    "papermill": {
     "duration": 0.024308,
     "end_time": "2022-03-24T20:20:37.178467",
     "exception": false,
     "start_time": "2022-03-24T20:20:37.154159",
     "status": "completed"
    },
    "tags": []
   },
   "source": [
    "## 6.\n",
    "There are only so many words you can use when describing a bottle of wine. Is a wine more likely to be \"tropical\" or \"fruity\"? Create a Series `descriptor_counts` counting how many times each of these two words appears in the `description` column in the dataset. (For simplicity, let's ignore the capitalized versions of these words.)"
   ]
  },
  {
   "cell_type": "code",
   "execution_count": 12,
   "id": "d581b306",
   "metadata": {
    "execution": {
     "iopub.execute_input": "2022-03-24T20:20:37.232712Z",
     "iopub.status.busy": "2022-03-24T20:20:37.232116Z",
     "iopub.status.idle": "2022-03-24T20:20:37.359289Z",
     "shell.execute_reply": "2022-03-24T20:20:37.358589Z",
     "shell.execute_reply.started": "2022-03-24T20:06:55.742156Z"
    },
    "papermill": {
     "duration": 0.156397,
     "end_time": "2022-03-24T20:20:37.359452",
     "exception": false,
     "start_time": "2022-03-24T20:20:37.203055",
     "status": "completed"
    },
    "tags": []
   },
   "outputs": [
    {
     "name": "stdout",
     "output_type": "stream",
     "text": [
      "tropical    3607\n",
      "fruity      9090\n",
      "dtype: int64\n"
     ]
    },
    {
     "data": {
      "application/javascript": [
       "parent.postMessage({\"jupyterEvent\": \"custom.exercise_interaction\", \"data\": {\"outcomeType\": 1, \"valueTowardsCompletion\": 0.14285714285714285, \"interactionType\": 1, \"questionType\": 1, \"questionId\": \"6_DescriptorCounts\", \"learnToolsVersion\": \"0.3.4\", \"failureMessage\": \"\", \"exceptionClass\": \"\", \"trace\": \"\"}}, \"*\")"
      ],
      "text/plain": [
       "<IPython.core.display.Javascript object>"
      ]
     },
     "metadata": {},
     "output_type": "display_data"
    },
    {
     "data": {
      "text/markdown": [
       "<span style=\"color:#33cc33\">Correct</span>"
      ],
      "text/plain": [
       "Correct"
      ]
     },
     "metadata": {},
     "output_type": "display_data"
    }
   ],
   "source": [
    "n_trop = reviews.description.map(lambda desc: \"tropical\" in desc).sum()\n",
    "n_fruity = reviews.description.map(lambda desc: \"fruity\" in desc).sum()\n",
    "descriptor_counts = pd.Series([n_trop, n_fruity], index=['tropical', 'fruity'])\n",
    "\n",
    "print(descriptor_counts)\n",
    "# Check your answer\n",
    "q6.check()"
   ]
  },
  {
   "cell_type": "code",
   "execution_count": 13,
   "id": "0a1f4e00",
   "metadata": {
    "execution": {
     "iopub.execute_input": "2022-03-24T20:20:37.416318Z",
     "iopub.status.busy": "2022-03-24T20:20:37.415341Z",
     "iopub.status.idle": "2022-03-24T20:20:37.417343Z",
     "shell.execute_reply": "2022-03-24T20:20:37.417766Z",
     "shell.execute_reply.started": "2022-03-24T19:33:05.805209Z"
    },
    "papermill": {
     "duration": 0.032355,
     "end_time": "2022-03-24T20:20:37.417951",
     "exception": false,
     "start_time": "2022-03-24T20:20:37.385596",
     "status": "completed"
    },
    "tags": []
   },
   "outputs": [],
   "source": [
    "#q6.hint()\n",
    "#q6.solution()"
   ]
  },
  {
   "cell_type": "markdown",
   "id": "407613b6",
   "metadata": {
    "papermill": {
     "duration": 0.025422,
     "end_time": "2022-03-24T20:20:37.469281",
     "exception": false,
     "start_time": "2022-03-24T20:20:37.443859",
     "status": "completed"
    },
    "tags": []
   },
   "source": [
    "## 7.\n",
    "We'd like to host these wine reviews on our website, but a rating system ranging from 80 to 100 points is too hard to understand - we'd like to translate them into simple star ratings. A score of 95 or higher counts as 3 stars, a score of at least 85 but less than 95 is 2 stars. Any other score is 1 star.\n",
    "\n",
    "Also, the Canadian Vintners Association bought a lot of ads on the site, so any wines from Canada should automatically get 3 stars, regardless of points.\n",
    "\n",
    "Create a series `star_ratings` with the number of stars corresponding to each review in the dataset."
   ]
  },
  {
   "cell_type": "code",
   "execution_count": 14,
   "id": "92506a9a",
   "metadata": {
    "execution": {
     "iopub.execute_input": "2022-03-24T20:20:37.524972Z",
     "iopub.status.busy": "2022-03-24T20:20:37.524056Z",
     "iopub.status.idle": "2022-03-24T20:20:40.786664Z",
     "shell.execute_reply": "2022-03-24T20:20:40.787074Z",
     "shell.execute_reply.started": "2022-03-24T20:19:45.229319Z"
    },
    "papermill": {
     "duration": 3.291978,
     "end_time": "2022-03-24T20:20:40.787236",
     "exception": false,
     "start_time": "2022-03-24T20:20:37.495258",
     "status": "completed"
    },
    "tags": []
   },
   "outputs": [
    {
     "name": "stdout",
     "output_type": "stream",
     "text": [
      "0         2\n",
      "1         2\n",
      "         ..\n",
      "129969    2\n",
      "129970    2\n",
      "Length: 129971, dtype: int64\n"
     ]
    },
    {
     "data": {
      "application/javascript": [
       "parent.postMessage({\"jupyterEvent\": \"custom.exercise_interaction\", \"data\": {\"outcomeType\": 1, \"valueTowardsCompletion\": 0.14285714285714285, \"interactionType\": 1, \"questionType\": 1, \"questionId\": \"7_StarRatings\", \"learnToolsVersion\": \"0.3.4\", \"failureMessage\": \"\", \"exceptionClass\": \"\", \"trace\": \"\"}}, \"*\")"
      ],
      "text/plain": [
       "<IPython.core.display.Javascript object>"
      ]
     },
     "metadata": {},
     "output_type": "display_data"
    },
    {
     "data": {
      "text/markdown": [
       "<span style=\"color:#33cc33\">Correct</span>"
      ],
      "text/plain": [
       "Correct"
      ]
     },
     "metadata": {},
     "output_type": "display_data"
    }
   ],
   "source": [
    "\n",
    " \n",
    "def stars(row):\n",
    "    if row.country == 'Canada':\n",
    "        return 3\n",
    "    if row.points >= 95:\n",
    "        return 3\n",
    "    elif row.points >= 85:\n",
    "        return 2\n",
    "    else:\n",
    "        return 1\n",
    "    return row\n",
    "\n",
    "star_ratings =reviews.apply(stars, axis='columns')\n",
    "print(star_ratings)\n",
    "\n",
    "\n",
    "# Check your answer\n",
    "q7.check()"
   ]
  },
  {
   "cell_type": "code",
   "execution_count": 15,
   "id": "9b195635",
   "metadata": {
    "execution": {
     "iopub.execute_input": "2022-03-24T20:20:40.850244Z",
     "iopub.status.busy": "2022-03-24T20:20:40.849641Z",
     "iopub.status.idle": "2022-03-24T20:20:40.851968Z",
     "shell.execute_reply": "2022-03-24T20:20:40.852343Z",
     "shell.execute_reply.started": "2022-03-24T20:19:57.380482Z"
    },
    "papermill": {
     "duration": 0.036247,
     "end_time": "2022-03-24T20:20:40.852515",
     "exception": false,
     "start_time": "2022-03-24T20:20:40.816268",
     "status": "completed"
    },
    "tags": []
   },
   "outputs": [],
   "source": [
    "#q7.hint()\n",
    "#q7.solution()"
   ]
  },
  {
   "cell_type": "markdown",
   "id": "be90e23b",
   "metadata": {
    "papermill": {
     "duration": 0.02698,
     "end_time": "2022-03-24T20:20:40.906620",
     "exception": false,
     "start_time": "2022-03-24T20:20:40.879640",
     "status": "completed"
    },
    "tags": []
   },
   "source": [
    "# Keep going\n",
    "Continue to **[grouping and sorting](https://www.kaggle.com/residentmario/grouping-and-sorting)**."
   ]
  },
  {
   "cell_type": "markdown",
   "id": "ad5c06e8",
   "metadata": {
    "papermill": {
     "duration": 0.026857,
     "end_time": "2022-03-24T20:20:40.960718",
     "exception": false,
     "start_time": "2022-03-24T20:20:40.933861",
     "status": "completed"
    },
    "tags": []
   },
   "source": [
    "---\n",
    "\n",
    "\n",
    "\n",
    "\n",
    "*Have questions or comments? Visit the [course discussion forum](https://www.kaggle.com/learn/pandas/discussion) to chat with other learners.*"
   ]
  }
 ],
 "metadata": {
  "kernelspec": {
   "display_name": "Python 3",
   "language": "python",
   "name": "python3"
  },
  "language_info": {
   "codemirror_mode": {
    "name": "ipython",
    "version": 3
   },
   "file_extension": ".py",
   "mimetype": "text/x-python",
   "name": "python",
   "nbconvert_exporter": "python",
   "pygments_lexer": "ipython3",
   "version": "3.7.12"
  },
  "papermill": {
   "default_parameters": {},
   "duration": 19.344646,
   "end_time": "2022-03-24T20:20:41.596705",
   "environment_variables": {},
   "exception": null,
   "input_path": "__notebook__.ipynb",
   "output_path": "__notebook__.ipynb",
   "parameters": {},
   "start_time": "2022-03-24T20:20:22.252059",
   "version": "2.3.3"
  }
 },
 "nbformat": 4,
 "nbformat_minor": 5
}
